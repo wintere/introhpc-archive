{
 "cells": [
  {
   "cell_type": "markdown",
   "id": "392cf3d8-0ac6-4eb0-a4b1-8cb450e143b2",
   "metadata": {
    "editable": true,
    "slideshow": {
     "slide_type": ""
    },
    "tags": []
   },
   "source": [
    "## Tips for using Jupyter notebooks as lab books"
   ]
  },
  {
   "cell_type": "markdown",
   "id": "069b0e90-6d3d-40a5-ae1f-01bce2283ba5",
   "metadata": {},
   "source": [
    "#### Tip 1"
   ]
  },
  {
   "cell_type": "markdown",
   "id": "a894531d-1da1-4540-8e05-147c7f975cb2",
   "metadata": {
    "jp-MarkdownHeadingCollapsed": true
   },
   "source": [
    "##### Avoid rerunning and rearranging cells.\n",
    "In order to function as a lab book, we want the notebook to record everything we do, not just the last thing we did! Let the notebook serve as a step by step recording of your work."
   ]
  },
  {
   "cell_type": "markdown",
   "id": "2e52e0c3-edea-46f5-ae17-245c28b038c3",
   "metadata": {},
   "source": [
    "#### Tip 2"
   ]
  },
  {
   "cell_type": "markdown",
   "id": "75ba3163-6c69-47f1-9313-434235381d31",
   "metadata": {
    "jp-MarkdownHeadingCollapsed": true
   },
   "source": [
    "##### Run your bash commands in a notebook.\n",
    "This is the whole point of using jupyter notebook as a lab book -- to record your work. Run things here, print scripts to the notebook, launch slurm jobs from here. Don't forget to put 'module purge' in your slurm scripts since jupyter notebook is run in a conda environment."
   ]
  },
  {
   "cell_type": "markdown",
   "id": "6d0b5f3f-46fb-4b29-998b-535e8af91177",
   "metadata": {},
   "source": [
    "#### Tip 3"
   ]
  },
  {
   "cell_type": "markdown",
   "id": "5c5221ac-a3ca-4b5c-bd36-cce3a064ba67",
   "metadata": {},
   "source": [
    "##### Make copious notes\n",
    "Use markdown and/or raw cells to make notes about your actions."
   ]
  },
  {
   "cell_type": "markdown",
   "id": "0f01d2b4-f4d0-4823-9c53-eaff296dfcdd",
   "metadata": {},
   "source": [
    "#### Tip 4"
   ]
  },
  {
   "cell_type": "markdown",
   "id": "0a09191f-b1ea-45e0-bcea-cc180e69200b",
   "metadata": {},
   "source": [
    "##### Use the %logstart magic to log your notebooks with timestamps.\n",
    "This will record all of your actions, regardless of how well you follow rule 1. It will also record your last actions if you close your notebook if you accidentally close your notebook without saving it. Remember doing something that you can't find in your notebook? Search your log. "
   ]
  },
  {
   "cell_type": "markdown",
   "id": "3a8b78a6-8e35-4e47-8e2a-ee061a6d5287",
   "metadata": {},
   "source": [
    "#### Tip 5"
   ]
  },
  {
   "cell_type": "markdown",
   "id": "95f8556a-fbb0-4da2-87ba-387f447e06af",
   "metadata": {},
   "source": [
    "##### Record stored variables & startup files.\n",
    "If you use %store, run it at the top of each notebook so that the values of any variables are recorded in the current notebook. If you use startup scripts, print them at the start of each notebook in order to capture their current state."
   ]
  },
  {
   "cell_type": "markdown",
   "id": "934c1dc7-6075-47d7-850f-f6fdba6dd3b0",
   "metadata": {},
   "source": [
    "#### Tip 6"
   ]
  },
  {
   "cell_type": "markdown",
   "id": "924ee836-8c79-4e2f-ac65-328b6b84c817",
   "metadata": {},
   "source": [
    "##### Write protect your notebooks and log files at the end of the day.\n",
    "This is the equivalent to writing in your notebook in pen. You don't want to accidentally edit your log files or notebooks. You WILL be opening old notebooks side by side with new ones, and you don't want to change the old notebooks by accident. `chmod -w mynotebook.ipynb`. "
   ]
  },
  {
   "cell_type": "markdown",
   "id": "8e0689c9-b225-4319-b7a1-164e87e7289a",
   "metadata": {},
   "source": [
    "#### Tip 7"
   ]
  },
  {
   "cell_type": "markdown",
   "id": "678e7930-8099-4525-a2bc-7cad926571c6",
   "metadata": {},
   "source": [
    "##### Organize and back up your notebooks\n",
    "Use a good naming convention, organize them into folders, make an index. Back them up using github, uocloud, dropbox, etc."
   ]
  },
  {
   "cell_type": "markdown",
   "id": "255ce65a-edbe-4a2c-b105-a06872ecee42",
   "metadata": {},
   "source": [
    "#### Tip 8"
   ]
  },
  {
   "cell_type": "markdown",
   "id": "9ddbe7d2-838a-46cc-98d5-c59e7a290c50",
   "metadata": {},
   "source": [
    "##### Search your notebooks with nbscan.py\n",
    "The tool [**nbscan**](https://github.com/conery/nbscan) is extremely useful for searching through your notebooks once you have a lot of them. Install it with pip if you didn't include it in your environment file:  \n",
    "`pip install --user git+https://github.com/conery/nbscan.git`  \n",
    "Run with:  \n",
    "`nbscan.py --code --grep 'fmriprep' *.ipynb`"
   ]
  },
  {
   "cell_type": "code",
   "execution_count": null,
   "id": "3a43986f-447f-4cf5-85c3-0be4e2e69081",
   "metadata": {},
   "outputs": [],
   "source": []
  }
 ],
 "metadata": {
  "kernelspec": {
   "display_name": "Python 3 (ipykernel)",
   "language": "python",
   "name": "python3"
  },
  "language_info": {
   "codemirror_mode": {
    "name": "ipython",
    "version": 3
   },
   "file_extension": ".py",
   "mimetype": "text/x-python",
   "name": "python",
   "nbconvert_exporter": "python",
   "pygments_lexer": "ipython3",
   "version": "3.13.3"
  }
 },
 "nbformat": 4,
 "nbformat_minor": 5
}
