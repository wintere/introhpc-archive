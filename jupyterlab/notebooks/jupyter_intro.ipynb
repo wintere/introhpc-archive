{
 "cells": [
  {
   "cell_type": "markdown",
   "id": "d665306d-682d-4054-bcd2-fbabe824e919",
   "metadata": {},
   "source": [
    "# Introduction to JupyterLab"
   ]
  },
  {
   "cell_type": "markdown",
   "id": "c1754005-8754-49a1-8ba8-7b34b86ac1c7",
   "metadata": {},
   "source": [
    "## JupyterLab: A Next-Generation Notebook Interface\n",
    "JupyterLab is the latest web-based interactive development environment for notebooks, code, and data. Its flexible interface allows users to configure and arrange workflows in data science, scientific computing, computational journalism, and machine learning. A modular design invites extensions to expand and enrich functionality."
   ]
  },
  {
   "cell_type": "markdown",
   "id": "3e6a7988-6192-4ded-babc-b659930df24d",
   "metadata": {},
   "source": [
    "### Exercise 0: build a jupyter environment on talapas\n",
    "When you launch the Jupyter interactive app on OnDemand, you can use an alternate conda enviroment. Build one now using the build_jupyter_rt.srun script in racs_training/resources. This will create an environment named 'jupyter_rt'."
   ]
  },
  {
   "cell_type": "markdown",
   "id": "8b2d5211-d254-4184-a1cf-80d87665fcf0",
   "metadata": {},
   "source": [
    "### What is Jupyter?\n",
    "Once upon a time there was a project called interactive python, or iPython. It grew and grew until the developers felt it was too big for python alone. In 2014 Project Jupyter was launched ([the Big Split](https://blog.jupyter.org/the-big-split-9d7b88a031a7)). Project Jupyter (whose name comes from Julia, Python, R) includes JupyterLab, Jupyter Notebook, and JupyterHub."
   ]
  },
  {
   "cell_type": "markdown",
   "id": "acea3d58-7f11-43bc-b18e-f59c67814601",
   "metadata": {},
   "source": [
    "### JupyterLab\n",
    "JupyterLab is a highly extensible, feature-rich notebook authoring application and editing environment, and is a part of Project Jupyter, a large umbrella project centered around the goal of providing tools (and standards) for interactive computing with computational notebooks.\r\n",
    "\r\n",
    "A computational notebook is a shareable document that combines computer code, plain language descriptions, data, rich visualizations like 3D models, charts, graphs and figures, and interactive controls. A notebook, along with an editor like JupyterLab, provides a fast interactive environment for prototyping and explaining code, exploring and visualizing data, and sharing ideas with others.\n",
    "https://jupyterlab.readthedocs.io/en/stable/index.html"
   ]
  },
  {
   "cell_type": "markdown",
   "id": "54656826-4b7f-410e-9468-3c52c6cc82f7",
   "metadata": {
    "editable": true,
    "slideshow": {
     "slide_type": ""
    },
    "tags": []
   },
   "source": [
    "### Why use JupyterLab/Notebook?\n",
    "- interactive code development\n",
    "- to make interactive notebooks\n",
    "- to record your workflow (ie, as a lab book)"
   ]
  },
  {
   "cell_type": "markdown",
   "id": "4ad39e06-261f-41d4-9e88-09001a83c008",
   "metadata": {
    "editable": true,
    "slideshow": {
     "slide_type": ""
    },
    "tags": []
   },
   "source": [
    "## The JupyterLab interface\n",
    "The JupyterLab interface consists of the main workspace, a menu bar, and left and right panels. The main workspace is where you'll see launched applications (notebooks, the editor, terminal, etc). The left panel includes a file browser, a list of running processes, a table of contents (generated from markdown cells), and the extensions manager. The right panel includes the property inspector and debugging tools."
   ]
  },
  {
   "cell_type": "markdown",
   "id": "0261192c-0c9f-4e27-96e5-b1ac684487df",
   "metadata": {},
   "source": [
    "### Workspaces\n",
    "The file browser directory and open tabs comprise the workspace. When you connect to JupyterLab you begin in the default workspace. The state of the workspace is automatically saved, so you'll see the same open tabs (& kernels? what gets restarted exactly?) from the last time you ran Jupyter. Right-clicking on a workspace name brings up a menu that includes:\n",
    "\n",
    "* Reset workspace - close all open tabs. Notebooks will be closed, but kernels will not be shut down.\n",
    "* Clone workspace - make a new workspace based on the current one.\n",
    "* Create new workspace - make a new empty workspace."
   ]
  },
  {
   "cell_type": "markdown",
   "id": "7f705972-a69d-427d-8dbd-2f12e160a8d5",
   "metadata": {
    "editable": true,
    "slideshow": {
     "slide_type": ""
    },
    "tags": []
   },
   "source": [
    "### Kernels\n",
    "[Kernels are programming language specific processes that run independently and interact with the Jupyter Applications and their user interfaces.](https://docs.jupyter.org/en/stable/projects/kernels.html) Other kernels besides the default ipykernel can be installed, including bash, R, Matlab, and C++."
   ]
  },
  {
   "attachments": {
    "89717cb8-c269-455c-ac6d-4950254e4ca1.PNG": {
     "image/png": "[encoded data removed]"
    }
   },
   "cell_type": "markdown",
   "id": "2dd62dcc-e567-43c1-adcb-d92b358ef3cd",
   "metadata": {},
   "source": [
    "![kernels.PNG](attachment:89717cb8-c269-455c-ac6d-4950254e4ca1.PNG)"
   ]
  },
  {
   "cell_type": "markdown",
   "id": "71f64fa1-4a81-424c-a8c3-cdf8f1b9617b",
   "metadata": {},
   "source": [
    "Here we have three notebooks, in two sessions, running one kernel. Notebooks within the same session share variables and functions while the session is active. All sessions with the same kernel share settings including stored variables, bookmarks, and startup scripts. You can right click on the kernel name in the upper corner of a running notebook to change the kernel. This will also stop the kernel for any notebooks in the same session."
   ]
  },
  {
   "cell_type": "markdown",
   "id": "d6793b75-c961-424c-94c8-4e440d932655",
   "metadata": {},
   "source": [
    "#### What happens when you shut down or restart a kernel?\n",
    "Any variables and functions defined within any associated notebooks or consoles are forgotten. Any running kernels are stopped when your jupyterlab session ends."
   ]
  },
  {
   "cell_type": "markdown",
   "id": "b536c066-bb89-453e-be01-a7b5333c6197",
   "metadata": {},
   "source": [
    "### Notebooks\n",
    "Notebooks let you combine code, markdown, and raw text. Notebooks may or may not run kernels. Jupyter Notebook is an application; you can switch to it by clicking on the word \"Notebook\" in the upper corner of the current notebook. You can have multiple views into the same notebook - right click on the notebook name and choose \"New View for Notebook.\"\n",
    "\n",
    "Notebooks are periodically autosaved. You can tell if a notebook has unsaved changed by looking at the tab: an 'x' means no unsaved changes, while a dot means that there are changes that will be lost if you close the notebook. You can save by clicked the \"save and create checkpoint\" icon. You can revert to the last checkpoint from the \"File\" menu. Autosaves do not create checkpoints."
   ]
  },
  {
   "cell_type": "markdown",
   "id": "c7c58874-654e-48e1-891e-c680bb7d830e",
   "metadata": {
    "editable": true,
    "slideshow": {
     "slide_type": ""
    },
    "tags": []
   },
   "source": [
    "#### Notebook modes\n",
    "When you create a new notebook you'll be in \"edit\" mode -- hit escape to switch to \"command\" mode, and enter to switch back. In command mode you can use the \"m\", \"c\", and \"r\" keys to quickly switch the current cell between markdown, code, and raw."
   ]
  },
  {
   "cell_type": "markdown",
   "id": "b578ddd4-fa46-4652-ac65-219537e8804e",
   "metadata": {},
   "source": [
    "#### Cells\n",
    "Notebooks consist of cells. There are three types:\n",
    "- Markdown\n",
    "- Code\n",
    "- Raw\n",
    "\n",
    "This is a **markdown cell**. Markdown cells that start with a header (#) get a little arrow next to them so you can collapse the next cells. They also show up in the table of contents."
   ]
  },
  {
   "cell_type": "raw",
   "id": "11da666b-810d-4040-a331-58e1cc95715f",
   "metadata": {},
   "source": [
    "This is a raw cell."
   ]
  },
  {
   "cell_type": "markdown",
   "id": "1c11cd29-e883-4251-9e99-35e33e289637",
   "metadata": {},
   "source": [
    "After you type something into a cell, hit the \"play\" button or shift-enter to run it."
   ]
  },
  {
   "cell_type": "markdown",
   "id": "8d909b31-689a-4ed0-9c21-5638cafebdc2",
   "metadata": {},
   "source": [
    "Code cells run any code within the cell, and show stdout and stderr beneath the cell. If the code cell returns a value, it will be shown as an output cell."
   ]
  },
  {
   "cell_type": "code",
   "execution_count": 1,
   "id": "2ebac530-5c1c-4b4b-b077-717fba158378",
   "metadata": {},
   "outputs": [
    {
     "data": {
      "text/plain": [
       "'Hello World'"
      ]
     },
     "execution_count": 1,
     "metadata": {},
     "output_type": "execute_result"
    }
   ],
   "source": [
    "## this is a code cell\n",
    "'Hello ' + 'World'"
   ]
  },
  {
   "cell_type": "code",
   "execution_count": 2,
   "id": "e2203e7e-6b77-4e95-b3b6-8a0ffc0e4297",
   "metadata": {},
   "outputs": [
    {
     "name": "stdout",
     "output_type": "stream",
     "text": [
      "Hello World\n"
     ]
    }
   ],
   "source": [
    "print('Hello World')"
   ]
  },
  {
   "cell_type": "markdown",
   "id": "79dd3928-7a3a-45c1-be6c-0e2157c949a2",
   "metadata": {},
   "source": [
    "#### Variables and Functions\n",
    "Variables and functions defined in a cell are accessible anywhere in the rest of the notebook."
   ]
  },
  {
   "cell_type": "code",
   "execution_count": 3,
   "id": "ffbc2c4e-68ee-4a98-8974-98fc97172daa",
   "metadata": {
    "editable": true,
    "slideshow": {
     "slide_type": ""
    },
    "tags": []
   },
   "outputs": [
    {
     "name": "stdout",
     "output_type": "stream",
     "text": [
      "Hello World\n"
     ]
    }
   ],
   "source": [
    "hw = 'Hello ' + 'World'\n",
    "print(hw)"
   ]
  },
  {
   "cell_type": "code",
   "execution_count": 4,
   "id": "54feacbf-ace9-4575-8d0a-ed885665c624",
   "metadata": {},
   "outputs": [
    {
     "data": {
      "text/plain": [
       "'Hello World'"
      ]
     },
     "execution_count": 4,
     "metadata": {},
     "output_type": "execute_result"
    }
   ],
   "source": [
    "hw"
   ]
  },
  {
   "cell_type": "code",
   "execution_count": 5,
   "id": "fc338d6a-d13f-423f-b5ab-a90e6732e6eb",
   "metadata": {},
   "outputs": [],
   "source": [
    "def hello(input):\n",
    "    print('Hello ' + input)"
   ]
  },
  {
   "cell_type": "code",
   "execution_count": 6,
   "id": "0fb298e6-314b-4e68-a402-0a2742db0bd7",
   "metadata": {},
   "outputs": [
    {
     "name": "stdout",
     "output_type": "stream",
     "text": [
      "Hello World\n"
     ]
    }
   ],
   "source": [
    "hello('World')"
   ]
  },
  {
   "cell_type": "code",
   "execution_count": 7,
   "id": "57861538-54b3-416d-8dde-0686632b54f2",
   "metadata": {},
   "outputs": [],
   "source": [
    "def goodbye(input):\n",
    "    return 'Goodbye ' + input"
   ]
  },
  {
   "cell_type": "code",
   "execution_count": 8,
   "id": "bd71dd4c-c00d-4a8b-9360-c727c36d5517",
   "metadata": {},
   "outputs": [
    {
     "data": {
      "text/plain": [
       "'Goodbye World'"
      ]
     },
     "execution_count": 8,
     "metadata": {},
     "output_type": "execute_result"
    }
   ],
   "source": [
    "goodbye('World')"
   ]
  },
  {
   "cell_type": "code",
   "execution_count": 9,
   "id": "154b81d8-41d8-4ec7-89da-acc9e08c87b4",
   "metadata": {},
   "outputs": [],
   "source": [
    "gw = goodbye('World')"
   ]
  },
  {
   "cell_type": "code",
   "execution_count": 10,
   "id": "77fb2092-5c90-4162-a601-873df2ca0a75",
   "metadata": {},
   "outputs": [
    {
     "data": {
      "text/plain": [
       "'Goodbye World'"
      ]
     },
     "execution_count": 10,
     "metadata": {},
     "output_type": "execute_result"
    }
   ],
   "source": [
    "gw"
   ]
  },
  {
   "cell_type": "markdown",
   "id": "1d269d21-baa3-4063-ad6d-0cd91d4a04a0",
   "metadata": {
    "slideshow": {
     "slide_type": ""
    },
    "tags": []
   },
   "source": [
    "## In & Out\n",
    "See those numbers? \n",
    "There are two special containers called \"In\" and \"Out\". All code cells go into the \"In\" container. All output cells go into the \"Out\" container. Those containers are saved during the current session, no matter how many times you re-execute a code cell."
   ]
  },
  {
   "cell_type": "code",
   "execution_count": 11,
   "id": "00893058-a7ad-4be5-9b21-c7ae9e8f758f",
   "metadata": {
    "editable": true,
    "slideshow": {
     "slide_type": ""
    },
    "tags": []
   },
   "outputs": [
    {
     "data": {
      "text/plain": [
       "['',\n",
       " \"## this is a code cell\\n'Hello ' + 'World'\",\n",
       " \"print('Hello World')\",\n",
       " \"hw = 'Hello ' + 'World'\\nprint(hw)\",\n",
       " 'hw',\n",
       " \"def hello(input):\\n    print('Hello ' + input)\",\n",
       " \"hello('World')\",\n",
       " \"def goodbye(input):\\n    return 'Goodbye ' + input\",\n",
       " \"goodbye('World')\",\n",
       " \"gw = goodbye('World')\",\n",
       " 'gw',\n",
       " 'In']"
      ]
     },
     "execution_count": 11,
     "metadata": {},
     "output_type": "execute_result"
    }
   ],
   "source": [
    "In"
   ]
  },
  {
   "cell_type": "code",
   "execution_count": 12,
   "id": "723d3ba2-1090-4bfc-9f8e-9092ca28d67e",
   "metadata": {
    "editable": true,
    "slideshow": {
     "slide_type": ""
    },
    "tags": []
   },
   "outputs": [
    {
     "data": {
      "text/plain": [
       "{1: 'Hello World',\n",
       " 4: 'Hello World',\n",
       " 8: 'Goodbye World',\n",
       " 10: 'Goodbye World',\n",
       " 11: ['',\n",
       "  \"## this is a code cell\\n'Hello ' + 'World'\",\n",
       "  \"print('Hello World')\",\n",
       "  \"hw = 'Hello ' + 'World'\\nprint(hw)\",\n",
       "  'hw',\n",
       "  \"def hello(input):\\n    print('Hello ' + input)\",\n",
       "  \"hello('World')\",\n",
       "  \"def goodbye(input):\\n    return 'Goodbye ' + input\",\n",
       "  \"goodbye('World')\",\n",
       "  \"gw = goodbye('World')\",\n",
       "  'gw',\n",
       "  'In',\n",
       "  'Out']}"
      ]
     },
     "execution_count": 12,
     "metadata": {},
     "output_type": "execute_result"
    }
   ],
   "source": [
    "Out"
   ]
  },
  {
   "cell_type": "markdown",
   "id": "ef1efb34-83a5-41e3-80b6-d04c6609d6d6",
   "metadata": {},
   "source": [
    "### Consoles\n",
    "You can also launch [code consoles](https://jupyterlab.readthedocs.io/en/stable/user/code_console.html) from the Launcher menu. Consoles in the same kernel session as notebooks share variables and functions. If you turn on \"Show All Kernel Activity\" (right click on console) it will act as a log of all kernel activity."
   ]
  },
  {
   "cell_type": "markdown",
   "id": "019af76c-710f-4723-b32f-5e53eafca717",
   "metadata": {
    "jp-MarkdownHeadingCollapsed": true
   },
   "source": [
    "### Other\n",
    "The 'other' category in the launcher screen includes the terminal, the text editor, and contextual help. \"Create a new xxx file\" options all launch the editor with a specific extension and syntax highlighting (you can change the syntax highlighting in the \"View\" menu)."
   ]
  },
  {
   "cell_type": "markdown",
   "id": "5c8b0ec5-1187-4782-a64b-c1a6b19b2cd4",
   "metadata": {},
   "source": [
    "### Exercise 1\n",
    "Start a JupyterLab instance on OnDemand, using the conda environment you created in a previous class. Launch a terminal, a text editor, and a notebook.\n",
    "\n",
    "Inside the notebook, create at least one raw cell, markdown cell, and code cell. Run each cell.\n",
    "\n",
    "Inspect the In and Out containers. Edit a code cell and rerun it. Inspect the In and Out containers again.\n",
    "\n",
    "Rename and save your notebook. Open it with the text editor. What kind of file is it?  Open it with the json viewer (right click -> open with)."
   ]
  },
  {
   "cell_type": "markdown",
   "id": "a986e31c-ede7-4bad-9c07-f5e7ac264ac9",
   "metadata": {
    "editable": true,
    "slideshow": {
     "slide_type": ""
    },
    "tags": []
   },
   "source": [
    "## Features of the iPython kernel"
   ]
  },
  {
   "attachments": {},
   "cell_type": "markdown",
   "id": "a8312462-b7c3-4324-9e38-ac22ddb0ba6c",
   "metadata": {},
   "source": [
    "#### Getting help\n",
    "\n",
    "You can get help for any function by adding a '?' to the end (this is kernel dependant and may not be true if you aren't using ipykernel). This outputs the signature and docstring of the function to stdout. A double ?? will in most cases print the source code for the function (this is the same information you'll see in the contextual help window). \n",
    "\n",
    "A variable name followed by a '?' will show you the type and value of the variable and the docstring for the variable type."
   ]
  },
  {
   "cell_type": "code",
   "execution_count": 13,
   "id": "2c295f98-b35f-458d-81fd-02143425a687",
   "metadata": {},
   "outputs": [
    {
     "data": {
      "text/plain": [
       "\u001b[0;31mSignature:\u001b[0m \u001b[0mprint\u001b[0m\u001b[0;34m(\u001b[0m\u001b[0;34m*\u001b[0m\u001b[0margs\u001b[0m\u001b[0;34m,\u001b[0m \u001b[0msep\u001b[0m\u001b[0;34m=\u001b[0m\u001b[0;34m' '\u001b[0m\u001b[0;34m,\u001b[0m \u001b[0mend\u001b[0m\u001b[0;34m=\u001b[0m\u001b[0;34m'\\n'\u001b[0m\u001b[0;34m,\u001b[0m \u001b[0mfile\u001b[0m\u001b[0;34m=\u001b[0m\u001b[0;32mNone\u001b[0m\u001b[0;34m,\u001b[0m \u001b[0mflush\u001b[0m\u001b[0;34m=\u001b[0m\u001b[0;32mFalse\u001b[0m\u001b[0;34m)\u001b[0m\u001b[0;34m\u001b[0m\u001b[0;34m\u001b[0m\u001b[0m\n",
       "\u001b[0;31mDocstring:\u001b[0m\n",
       "Prints the values to a stream, or to sys.stdout by default.\n",
       "\n",
       "sep\n",
       "  string inserted between values, default a space.\n",
       "end\n",
       "  string appended after the last value, default a newline.\n",
       "file\n",
       "  a file-like object (stream); defaults to the current sys.stdout.\n",
       "flush\n",
       "  whether to forcibly flush the stream.\n",
       "\u001b[0;31mType:\u001b[0m      builtin_function_or_method"
      ]
     },
     "metadata": {},
     "output_type": "display_data"
    }
   ],
   "source": [
    "print?"
   ]
  },
  {
   "cell_type": "code",
   "execution_count": 14,
   "id": "2d11e852-c4e4-4c93-8da0-30c7f77e7f2c",
   "metadata": {},
   "outputs": [
    {
     "data": {
      "text/plain": [
       "\u001b[0;31mSignature:\u001b[0m \u001b[0mhello\u001b[0m\u001b[0;34m(\u001b[0m\u001b[0minput\u001b[0m\u001b[0;34m)\u001b[0m\u001b[0;34m\u001b[0m\u001b[0;34m\u001b[0m\u001b[0m\n",
       "\u001b[0;31mDocstring:\u001b[0m <no docstring>\n",
       "\u001b[0;31mFile:\u001b[0m      /tmp/ipykernel_675067/3580921801.py\n",
       "\u001b[0;31mType:\u001b[0m      function"
      ]
     },
     "metadata": {},
     "output_type": "display_data"
    }
   ],
   "source": [
    "hello?"
   ]
  },
  {
   "cell_type": "code",
   "execution_count": 15,
   "id": "21997e24-f42a-4a32-b340-33b8973db7bf",
   "metadata": {},
   "outputs": [
    {
     "data": {
      "text/plain": [
       "\u001b[0;31mSignature:\u001b[0m \u001b[0mhello\u001b[0m\u001b[0;34m(\u001b[0m\u001b[0minput\u001b[0m\u001b[0;34m)\u001b[0m\u001b[0;34m\u001b[0m\u001b[0;34m\u001b[0m\u001b[0m\n",
       "\u001b[0;31mDocstring:\u001b[0m <no docstring>\n",
       "\u001b[0;31mSource:\u001b[0m   \n",
       "\u001b[0;32mdef\u001b[0m \u001b[0mhello\u001b[0m\u001b[0;34m(\u001b[0m\u001b[0minput\u001b[0m\u001b[0;34m)\u001b[0m\u001b[0;34m:\u001b[0m\u001b[0;34m\u001b[0m\n",
       "\u001b[0;34m\u001b[0m    \u001b[0mprint\u001b[0m\u001b[0;34m(\u001b[0m\u001b[0;34m'Hello '\u001b[0m \u001b[0;34m+\u001b[0m \u001b[0minput\u001b[0m\u001b[0;34m)\u001b[0m\u001b[0;34m\u001b[0m\u001b[0;34m\u001b[0m\u001b[0m\n",
       "\u001b[0;31mFile:\u001b[0m      /tmp/ipykernel_675067/3580921801.py\n",
       "\u001b[0;31mType:\u001b[0m      function"
      ]
     },
     "metadata": {},
     "output_type": "display_data"
    }
   ],
   "source": [
    "hello??"
   ]
  },
  {
   "cell_type": "code",
   "execution_count": 16,
   "id": "dff62365-f754-4c1c-be9e-3b457cf11bdd",
   "metadata": {},
   "outputs": [
    {
     "data": {
      "text/plain": [
       "\u001b[0;31mType:\u001b[0m        str\n",
       "\u001b[0;31mString form:\u001b[0m Hello World\n",
       "\u001b[0;31mLength:\u001b[0m      11\n",
       "\u001b[0;31mDocstring:\u001b[0m  \n",
       "str(object='') -> str\n",
       "str(bytes_or_buffer[, encoding[, errors]]) -> str\n",
       "\n",
       "Create a new string object from the given object. If encoding or\n",
       "errors is specified, then the object must expose a data buffer\n",
       "that will be decoded using the given encoding and error handler.\n",
       "Otherwise, returns the result of object.__str__() (if defined)\n",
       "or repr(object).\n",
       "encoding defaults to 'utf-8'.\n",
       "errors defaults to 'strict'."
      ]
     },
     "metadata": {},
     "output_type": "display_data"
    }
   ],
   "source": [
    "hw?"
   ]
  },
  {
   "cell_type": "markdown",
   "id": "230b6be5-b744-4191-b199-302c3c421509",
   "metadata": {},
   "source": [
    "### Running system commands\n",
    "You can run a system command by prefacing it with an exclamation point. "
   ]
  },
  {
   "cell_type": "code",
   "execution_count": 17,
   "id": "3ce1a330-b813-4114-b088-e56a982db853",
   "metadata": {},
   "outputs": [
    {
     "name": "stdout",
     "output_type": "stream",
     "text": [
      "Exercise0.md\t\tcustomizing_ipython.ipynb  logs\n",
      "Untitled.ipynb\t\tgreta.png\t\t   mynotebook.log\n",
      "advanced_ipython.ipynb\tjupyter_intro.ipynb\t   stickleback.jpg\n",
      "build_jupyter_rt.srun\tjupyter_rt.yml\t\t   sub-G16_T1w.json\n",
      "confounds.tsv\t\tjupyterlabbook.ipynb\t   sub-G16_T1w.nii\n"
     ]
    }
   ],
   "source": [
    "!ls"
   ]
  },
  {
   "cell_type": "markdown",
   "id": "91733db2-63b1-4991-98fc-5732fe7121c6",
   "metadata": {},
   "source": [
    "You can capture the output by either assigning the result to a variable, or using a double exclamation point."
   ]
  },
  {
   "cell_type": "code",
   "execution_count": 18,
   "id": "63e83842-17de-4158-8685-bbed6b054e9a",
   "metadata": {},
   "outputs": [
    {
     "data": {
      "text/plain": [
       "['Exercise0.md',\n",
       " 'Untitled.ipynb',\n",
       " 'advanced_ipython.ipynb',\n",
       " 'build_jupyter_rt.srun',\n",
       " 'confounds.tsv',\n",
       " 'customizing_ipython.ipynb',\n",
       " 'greta.png',\n",
       " 'jupyter_intro.ipynb',\n",
       " 'jupyter_rt.yml',\n",
       " 'jupyterlabbook.ipynb',\n",
       " 'logs',\n",
       " 'mynotebook.log',\n",
       " 'stickleback.jpg',\n",
       " 'sub-G16_T1w.json',\n",
       " 'sub-G16_T1w.nii']"
      ]
     },
     "execution_count": 18,
     "metadata": {},
     "output_type": "execute_result"
    }
   ],
   "source": [
    "!!ls"
   ]
  },
  {
   "cell_type": "markdown",
   "id": "46beaa0f-9d59-48fc-954c-24d16d0e87b4",
   "metadata": {},
   "source": [
    "Let's capture the output out of `!ls` (the list of files in the current working directory) and assign it to the variable `myfiles`."
   ]
  },
  {
   "cell_type": "code",
   "execution_count": 19,
   "id": "d8f0d2e2-0b8d-4848-859f-0f8004e156f7",
   "metadata": {},
   "outputs": [],
   "source": [
    "myfiles = !ls"
   ]
  },
  {
   "cell_type": "code",
   "execution_count": 20,
   "id": "7634a86b-9e11-444f-ab0b-a98ba12fd947",
   "metadata": {},
   "outputs": [
    {
     "data": {
      "text/plain": [
       "['Exercise0.md',\n",
       " 'Untitled.ipynb',\n",
       " 'advanced_ipython.ipynb',\n",
       " 'build_jupyter_rt.srun',\n",
       " 'confounds.tsv',\n",
       " 'customizing_ipython.ipynb',\n",
       " 'greta.png',\n",
       " 'jupyter_intro.ipynb',\n",
       " 'jupyter_rt.yml',\n",
       " 'jupyterlabbook.ipynb',\n",
       " 'logs',\n",
       " 'mynotebook.log',\n",
       " 'stickleback.jpg',\n",
       " 'sub-G16_T1w.json',\n",
       " 'sub-G16_T1w.nii']"
      ]
     },
     "execution_count": 20,
     "metadata": {},
     "output_type": "execute_result"
    }
   ],
   "source": [
    "myfiles"
   ]
  },
  {
   "attachments": {},
   "cell_type": "markdown",
   "id": "40d67595-c294-4d35-bb67-4011a21b6189",
   "metadata": {},
   "source": [
    "## iPython SLists\n",
    "\n",
    "The list returned by a shell command in an ipykernel notebook is a special kind of list. It might **appear** like an ordinary list when evaluated in a Jupyter cell, but it actual has component parts:\n",
    "    * *slist_name*.l\n",
    "    * *slist_name*.n\n",
    "    * *slist_name*.s\n",
    "    * *slist_name*.p\n",
    "\n",
    "Let's use the `?` magic to get in-notebook documentation for `Slist`."
   ]
  },
  {
   "cell_type": "code",
   "execution_count": 21,
   "id": "6c6acae6-4b8e-4761-9b39-56b7e9d46611",
   "metadata": {},
   "outputs": [
    {
     "data": {
      "text/plain": [
       "\u001b[0;31mType:\u001b[0m        SList\n",
       "\u001b[0;31mString form:\u001b[0m ['Exercise0.md', 'Untitled.ipynb', 'advanced_ipython.ipynb', 'build_jupyter_rt.srun', 'confounds. <...> bbook.ipynb', 'logs', 'mynotebook.log', 'stickleback.jpg', 'sub-G16_T1w.json', 'sub-G16_T1w.nii']\n",
       "\u001b[0;31mLength:\u001b[0m      15\n",
       "\u001b[0;31mFile:\u001b[0m        ~/.conda/envs/jupyter_rt/lib/python3.13/site-packages/IPython/utils/text.py\n",
       "\u001b[0;31mDocstring:\u001b[0m  \n",
       "List derivative with a special access attributes.\n",
       "\n",
       "These are normal lists, but with the special attributes:\n",
       "\n",
       "* .l (or .list) : value as list (the list itself).\n",
       "* .n (or .nlstr): value as a string, joined on newlines.\n",
       "* .s (or .spstr): value as a string, joined on spaces.\n",
       "* .p (or .paths): list of path objects (requires path.py package)\n",
       "\n",
       "Any values which require transformations are computed only once and\n",
       "cached."
      ]
     },
     "metadata": {},
     "output_type": "display_data"
    }
   ],
   "source": [
    "myfiles?"
   ]
  },
  {
   "cell_type": "markdown",
   "id": "1b9537de-fcf5-41ba-91bb-922587f8db7a",
   "metadata": {},
   "source": [
    "Let's grab the file list as a new-line separated string with `.n`."
   ]
  },
  {
   "cell_type": "code",
   "execution_count": 22,
   "id": "ae5697c9-e5f7-45e8-8d4a-6e34f9ce6ec6",
   "metadata": {},
   "outputs": [
    {
     "data": {
      "text/plain": [
       "'Exercise0.md\\nUntitled.ipynb\\nadvanced_ipython.ipynb\\nbuild_jupyter_rt.srun\\nconfounds.tsv\\ncustomizing_ipython.ipynb\\ngreta.png\\njupyter_intro.ipynb\\njupyter_rt.yml\\njupyterlabbook.ipynb\\nlogs\\nmynotebook.log\\nstickleback.jpg\\nsub-G16_T1w.json\\nsub-G16_T1w.nii'"
      ]
     },
     "execution_count": 22,
     "metadata": {},
     "output_type": "execute_result"
    }
   ],
   "source": [
    "myfiles.n"
   ]
  },
  {
   "cell_type": "code",
   "execution_count": 23,
   "id": "5258fc87-a585-4eb5-b1c0-cbf1ad9bc77c",
   "metadata": {},
   "outputs": [
    {
     "name": "stdout",
     "output_type": "stream",
     "text": [
      "Exercise0.md\n",
      "Untitled.ipynb\n",
      "advanced_ipython.ipynb\n",
      "build_jupyter_rt.srun\n",
      "confounds.tsv\n",
      "customizing_ipython.ipynb\n",
      "greta.png\n",
      "jupyter_intro.ipynb\n",
      "jupyter_rt.yml\n",
      "jupyterlabbook.ipynb\n",
      "logs\n",
      "mynotebook.log\n",
      "stickleback.jpg\n",
      "sub-G16_T1w.json\n",
      "sub-G16_T1w.nii\n"
     ]
    }
   ],
   "source": [
    "print(myfiles.n)"
   ]
  },
  {
   "cell_type": "markdown",
   "id": "e9f2f601-3c1f-44fd-b53e-af61eb1535ea",
   "metadata": {},
   "source": [
    "And as a space-separated string with `.s`"
   ]
  },
  {
   "cell_type": "code",
   "execution_count": 24,
   "id": "b0d350c1-2c13-48a5-a9b5-282584b83c89",
   "metadata": {},
   "outputs": [
    {
     "data": {
      "text/plain": [
       "'Exercise0.md Untitled.ipynb advanced_ipython.ipynb build_jupyter_rt.srun confounds.tsv customizing_ipython.ipynb greta.png jupyter_intro.ipynb jupyter_rt.yml jupyterlabbook.ipynb logs mynotebook.log stickleback.jpg sub-G16_T1w.json sub-G16_T1w.nii'"
      ]
     },
     "execution_count": 24,
     "metadata": {},
     "output_type": "execute_result"
    }
   ],
   "source": [
    "myfiles.s"
   ]
  },
  {
   "cell_type": "markdown",
   "id": "f8180a9b-61f7-4c6c-bd4a-2b8a5ee8b31a",
   "metadata": {},
   "source": [
    "## Passing python variables as arguments to system commands.\n",
    "You can pass a python variable as an argument either by adding a dollar sign or by enclosing the variable name in curly braces."
   ]
  },
  {
   "cell_type": "code",
   "execution_count": 25,
   "id": "99ae9672-a5f2-478f-b3ed-c655ad58813d",
   "metadata": {},
   "outputs": [],
   "source": [
    "resources = '/projects/racs_training/resources'"
   ]
  },
  {
   "cell_type": "code",
   "execution_count": 26,
   "id": "18bb6e91-fa2e-461b-ba84-b32a591860d8",
   "metadata": {},
   "outputs": [
    {
     "name": "stdout",
     "output_type": "stream",
     "text": [
      "bids_RR  fmriprep_out\t   jupyter_examples\t slurm_examples       talapas\n",
      "dcm\t fmriprep_scripts  jupyter_examples_jcs  slurm_examples_day2  temp\n"
     ]
    }
   ],
   "source": [
    "!ls {resources}"
   ]
  },
  {
   "cell_type": "markdown",
   "id": "e6c15862-fdfa-4d64-94b8-b026ca54da2e",
   "metadata": {},
   "source": [
    "#### Exercise two: bash commands\n",
    "I ran an array job with id 25921686. Did it work?"
   ]
  },
  {
   "cell_type": "markdown",
   "id": "a2d43139-bbc1-4e51-9045-2392ad6a151b",
   "metadata": {},
   "source": [
    "Create an integer variable: `jobid`. Use the `sacct` command to find the status."
   ]
  },
  {
   "cell_type": "code",
   "execution_count": 34,
   "id": "b05d0d1c-6a7e-4ddd-b153-fc9dcb8e1b63",
   "metadata": {
    "scrolled": true
   },
   "outputs": [
    {
     "name": "stdout",
     "output_type": "stream",
     "text": [
      "JobID           JobName  Partition    Account  AllocCPUS      State ExitCode \n",
      "------------ ---------- ---------- ---------- ---------- ---------- -------- \n",
      "25921686_0   fmriprep_+    compute       lcni          8  COMPLETED      0:0 \n",
      "25921686_0.+      batch                  lcni          8  COMPLETED      0:0 \n",
      "25921686_0.+     extern                  lcni          8  COMPLETED      0:0 \n",
      "25921686_1   fmriprep_+    compute       lcni          8  COMPLETED      0:0 \n",
      "25921686_1.+      batch                  lcni          8  COMPLETED      0:0 \n",
      "25921686_1.+     extern                  lcni          8  COMPLETED      0:0 \n",
      "25921686_2   fmriprep_+    compute       lcni          8  COMPLETED      0:0 \n",
      "25921686_2.+      batch                  lcni          8  COMPLETED      0:0 \n",
      "25921686_2.+     extern                  lcni          8  COMPLETED      0:0 \n",
      "25921686_3   fmriprep_+    compute       lcni          8     FAILED      1:0 \n",
      "25921686_3.+      batch                  lcni          8     FAILED      1:0 \n",
      "25921686_3.+     extern                  lcni          8  COMPLETED      0:0 \n",
      "25921686_4   fmriprep_+    compute       lcni          8  COMPLETED      0:0 \n",
      "25921686_4.+      batch                  lcni          8  COMPLETED      0:0 \n",
      "25921686_4.+     extern                  lcni          8  COMPLETED      0:0 \n",
      "25921686_5   fmriprep_+    compute       lcni          8  COMPLETED      0:0 \n",
      "25921686_5.+      batch                  lcni          8  COMPLETED      0:0 \n",
      "25921686_5.+     extern                  lcni          8  COMPLETED      0:0 \n",
      "25921686_6   fmriprep_+    compute       lcni          8  COMPLETED      0:0 \n",
      "25921686_6.+      batch                  lcni          8  COMPLETED      0:0 \n",
      "25921686_6.+     extern                  lcni          8  COMPLETED      0:0 \n",
      "25921686_7   fmriprep_+    compute       lcni          8  COMPLETED      0:0 \n",
      "25921686_7.+      batch                  lcni          8  COMPLETED      0:0 \n",
      "25921686_7.+     extern                  lcni          8  COMPLETED      0:0 \n",
      "25921686_8   fmriprep_+    compute       lcni          8  COMPLETED      0:0 \n",
      "25921686_8.+      batch                  lcni          8  COMPLETED      0:0 \n",
      "25921686_8.+     extern                  lcni          8  COMPLETED      0:0 \n",
      "25921686_9   fmriprep_+    compute       lcni          8  COMPLETED      0:0 \n",
      "25921686_9.+      batch                  lcni          8  COMPLETED      0:0 \n",
      "25921686_9.+     extern                  lcni          8  COMPLETED      0:0 \n",
      "25921686_10  fmriprep_+    compute       lcni          8  COMPLETED      0:0 \n",
      "25921686_10+      batch                  lcni          8  COMPLETED      0:0 \n",
      "25921686_10+     extern                  lcni          8  COMPLETED      0:0 \n",
      "25921686_11  fmriprep_+    compute       lcni          8  COMPLETED      0:0 \n",
      "25921686_11+      batch                  lcni          8  COMPLETED      0:0 \n",
      "25921686_11+     extern                  lcni          8  COMPLETED      0:0 \n",
      "25921686_12  fmriprep_+    compute       lcni          8  COMPLETED      0:0 \n",
      "25921686_12+      batch                  lcni          8  COMPLETED      0:0 \n",
      "25921686_12+     extern                  lcni          8  COMPLETED      0:0 \n",
      "25921686_13  fmriprep_+    compute       lcni          8  COMPLETED      0:0 \n",
      "25921686_13+      batch                  lcni          8  COMPLETED      0:0 \n",
      "25921686_13+     extern                  lcni          8  COMPLETED      0:0 \n",
      "25921686_14  fmriprep_+    compute       lcni          8  COMPLETED      0:0 \n",
      "25921686_14+      batch                  lcni          8  COMPLETED      0:0 \n",
      "25921686_14+     extern                  lcni          8  COMPLETED      0:0 \n",
      "25921686_15  fmriprep_+    compute       lcni          8  COMPLETED      0:0 \n",
      "25921686_15+      batch                  lcni          8  COMPLETED      0:0 \n",
      "25921686_15+     extern                  lcni          8  COMPLETED      0:0 \n",
      "25921686_16  fmriprep_+    compute       lcni          8  COMPLETED      0:0 \n",
      "25921686_16+      batch                  lcni          8  COMPLETED      0:0 \n",
      "25921686_16+     extern                  lcni          8  COMPLETED      0:0 \n",
      "25921686_17  fmriprep_+    compute       lcni          8  COMPLETED      0:0 \n",
      "25921686_17+      batch                  lcni          8  COMPLETED      0:0 \n",
      "25921686_17+     extern                  lcni          8  COMPLETED      0:0 \n",
      "25921686_18  fmriprep_+    compute       lcni          8  COMPLETED      0:0 \n",
      "25921686_18+      batch                  lcni          8  COMPLETED      0:0 \n",
      "25921686_18+     extern                  lcni          8  COMPLETED      0:0 \n",
      "25921686_19  fmriprep_+    compute       lcni          8  COMPLETED      0:0 \n",
      "25921686_19+      batch                  lcni          8  COMPLETED      0:0 \n",
      "25921686_19+     extern                  lcni          8  COMPLETED      0:0 \n",
      "25921686_20  fmriprep_+    compute       lcni          8  COMPLETED      0:0 \n",
      "25921686_20+      batch                  lcni          8  COMPLETED      0:0 \n",
      "25921686_20+     extern                  lcni          8  COMPLETED      0:0 \n",
      "25921686_21  fmriprep_+    compute       lcni          8  COMPLETED      0:0 \n",
      "25921686_21+      batch                  lcni          8  COMPLETED      0:0 \n",
      "25921686_21+     extern                  lcni          8  COMPLETED      0:0 \n",
      "25921686_22  fmriprep_+    compute       lcni          8  COMPLETED      0:0 \n",
      "25921686_22+      batch                  lcni          8  COMPLETED      0:0 \n",
      "25921686_22+     extern                  lcni          8  COMPLETED      0:0 \n",
      "25921686_23  fmriprep_+    compute       lcni          8  COMPLETED      0:0 \n",
      "25921686_23+      batch                  lcni          8  COMPLETED      0:0 \n",
      "25921686_23+     extern                  lcni          8  COMPLETED      0:0 \n",
      "25921686_24  fmriprep_+    compute       lcni          8  COMPLETED      0:0 \n",
      "25921686_24+      batch                  lcni          8  COMPLETED      0:0 \n",
      "25921686_24+     extern                  lcni          8  COMPLETED      0:0 \n",
      "25921686_25  fmriprep_+    compute       lcni          8  COMPLETED      0:0 \n",
      "25921686_25+      batch                  lcni          8  COMPLETED      0:0 \n",
      "25921686_25+     extern                  lcni          8  COMPLETED      0:0 \n",
      "25921686_26  fmriprep_+    compute       lcni          8  COMPLETED      0:0 \n",
      "25921686_26+      batch                  lcni          8  COMPLETED      0:0 \n",
      "25921686_26+     extern                  lcni          8  COMPLETED      0:0 \n",
      "25921686_27  fmriprep_+    compute       lcni          8  COMPLETED      0:0 \n",
      "25921686_27+      batch                  lcni          8  COMPLETED      0:0 \n",
      "25921686_27+     extern                  lcni          8  COMPLETED      0:0 \n",
      "25921686_28  fmriprep_+    compute       lcni          8  COMPLETED      0:0 \n",
      "25921686_28+      batch                  lcni          8  COMPLETED      0:0 \n",
      "25921686_28+     extern                  lcni          8  COMPLETED      0:0 \n",
      "25921686_29  fmriprep_+    compute       lcni          8  COMPLETED      0:0 \n",
      "25921686_29+      batch                  lcni          8  COMPLETED      0:0 \n",
      "25921686_29+     extern                  lcni          8  COMPLETED      0:0 \n",
      "25921686_30  fmriprep_+    compute       lcni          8  COMPLETED      0:0 \n",
      "25921686_30+      batch                  lcni          8  COMPLETED      0:0 \n",
      "25921686_30+     extern                  lcni          8  COMPLETED      0:0 \n",
      "25921686_31  fmriprep_+    compute       lcni          8  COMPLETED      0:0 \n",
      "25921686_31+      batch                  lcni          8  COMPLETED      0:0 \n",
      "25921686_31+     extern                  lcni          8  COMPLETED      0:0 \n",
      "25921686_32  fmriprep_+    compute       lcni          8  COMPLETED      0:0 \n",
      "25921686_32+      batch                  lcni          8  COMPLETED      0:0 \n",
      "25921686_32+     extern                  lcni          8  COMPLETED      0:0 \n",
      "25921686_33  fmriprep_+    compute       lcni          8  COMPLETED      0:0 \n",
      "25921686_33+      batch                  lcni          8  COMPLETED      0:0 \n",
      "25921686_33+     extern                  lcni          8  COMPLETED      0:0 \n",
      "25921686_34  fmriprep_+    compute       lcni          8  COMPLETED      0:0 \n",
      "25921686_34+      batch                  lcni          8  COMPLETED      0:0 \n",
      "25921686_34+     extern                  lcni          8  COMPLETED      0:0 \n",
      "25921686_35  fmriprep_+    compute       lcni          8  COMPLETED      0:0 \n",
      "25921686_35+      batch                  lcni          8  COMPLETED      0:0 \n",
      "25921686_35+     extern                  lcni          8  COMPLETED      0:0 \n",
      "25921686_36  fmriprep_+    compute       lcni          8  COMPLETED      0:0 \n",
      "25921686_36+      batch                  lcni          8  COMPLETED      0:0 \n",
      "25921686_36+     extern                  lcni          8  COMPLETED      0:0 \n",
      "25921686_37  fmriprep_+    compute       lcni          8  COMPLETED      0:0 \n",
      "25921686_37+      batch                  lcni          8  COMPLETED      0:0 \n",
      "25921686_37+     extern                  lcni          8  COMPLETED      0:0 \n",
      "25921686_38  fmriprep_+    compute       lcni          8  COMPLETED      0:0 \n",
      "25921686_38+      batch                  lcni          8  COMPLETED      0:0 \n",
      "25921686_38+     extern                  lcni          8  COMPLETED      0:0 \n",
      "25921686_39  fmriprep_+    compute       lcni          8  COMPLETED      0:0 \n",
      "25921686_39+      batch                  lcni          8  COMPLETED      0:0 \n",
      "25921686_39+     extern                  lcni          8  COMPLETED      0:0 \n",
      "25921686_40  fmriprep_+    compute       lcni          8  COMPLETED      0:0 \n",
      "25921686_40+      batch                  lcni          8  COMPLETED      0:0 \n",
      "25921686_40+     extern                  lcni          8  COMPLETED      0:0 \n",
      "25921686_41  fmriprep_+    compute       lcni          8  COMPLETED      0:0 \n",
      "25921686_41+      batch                  lcni          8  COMPLETED      0:0 \n",
      "25921686_41+     extern                  lcni          8  COMPLETED      0:0 \n",
      "25921686_42  fmriprep_+    compute       lcni          8  COMPLETED      0:0 \n",
      "25921686_42+      batch                  lcni          8  COMPLETED      0:0 \n",
      "25921686_42+     extern                  lcni          8  COMPLETED      0:0 \n",
      "25921686_43  fmriprep_+    compute       lcni          8  COMPLETED      0:0 \n",
      "25921686_43+      batch                  lcni          8  COMPLETED      0:0 \n",
      "25921686_43+     extern                  lcni          8  COMPLETED      0:0 \n",
      "25921686_44  fmriprep_+    compute       lcni          8  COMPLETED      0:0 \n",
      "25921686_44+      batch                  lcni          8  COMPLETED      0:0 \n",
      "25921686_44+     extern                  lcni          8  COMPLETED      0:0 \n",
      "25921686_45  fmriprep_+    compute       lcni          8  COMPLETED      0:0 \n",
      "25921686_45+      batch                  lcni          8  COMPLETED      0:0 \n",
      "25921686_45+     extern                  lcni          8  COMPLETED      0:0 \n",
      "25921686_46  fmriprep_+    compute       lcni          8     FAILED      1:0 \n",
      "25921686_46+      batch                  lcni          8     FAILED      1:0 \n",
      "25921686_46+     extern                  lcni          8  COMPLETED      0:0 \n"
     ]
    }
   ],
   "source": [
    "jobid = 25921686\n",
    "!sacct -j {jobid}"
   ]
  },
  {
   "cell_type": "markdown",
   "id": "4a9c130a-959a-40bb-be45-16b849b50aed",
   "metadata": {},
   "source": [
    "This array job had a few failures, let's isolate them."
   ]
  },
  {
   "cell_type": "markdown",
   "id": "595b405e-eeee-4b3a-9e22-50b55e3a4188",
   "metadata": {},
   "source": [
    "Use `grep` to find the results that failed."
   ]
  },
  {
   "cell_type": "code",
   "execution_count": 35,
   "id": "f4428c13-85fa-4896-92a6-e10b449862f0",
   "metadata": {},
   "outputs": [],
   "source": [
    "failed = !sacct -j {jobid} | grep FAILED "
   ]
  },
  {
   "cell_type": "code",
   "execution_count": 38,
   "id": "40d61239-0ab4-4571-956a-8d1692d264f8",
   "metadata": {
    "scrolled": true
   },
   "outputs": [
    {
     "data": {
      "text/plain": [
       "['25921686_3   fmriprep_+    compute       lcni          8     FAILED      1:0 ',\n",
       " '25921686_3.+      batch                  lcni          8     FAILED      1:0 ',\n",
       " '25921686_46  fmriprep_+    compute       lcni          8     FAILED      1:0 ',\n",
       " '25921686_46+      batch                  lcni          8     FAILED      1:0 ']"
      ]
     },
     "execution_count": 38,
     "metadata": {},
     "output_type": "execute_result"
    }
   ],
   "source": [
    "failed"
   ]
  },
  {
   "cell_type": "markdown",
   "id": "4d9c1af9-aa14-4694-855c-5551e4659226",
   "metadata": {},
   "source": [
    "Now, process this list into something more readable with [list comprehensions](https://docs.python.org/3/tutorial/datastructures.html#list-comprehensions)."
   ]
  },
  {
   "cell_type": "code",
   "execution_count": 39,
   "id": "8af9b510-5a38-46f2-a033-b893d00ddac5",
   "metadata": {},
   "outputs": [
    {
     "data": {
      "text/plain": [
       "['25921686_3   fmriprep_+    compute       lcni          8     FAILED      1:0 ',\n",
       " '25921686_3.+      batch                  lcni          8     FAILED      1:0 ',\n",
       " '25921686_46  fmriprep_+    compute       lcni          8     FAILED      1:0 ',\n",
       " '25921686_46+      batch                  lcni          8     FAILED      1:0 ']"
      ]
     },
     "execution_count": 39,
     "metadata": {},
     "output_type": "execute_result"
    }
   ],
   "source": [
    "[x for x in failed] # Iterate over each item in a list and do the same thing"
   ]
  },
  {
   "cell_type": "code",
   "execution_count": 40,
   "id": "4c102473-4d93-446e-93f1-d32532fd08f7",
   "metadata": {},
   "outputs": [
    {
     "data": {
      "text/plain": [
       "['25921686_3   fmriprep_+    compute       lcni          8     FAILED      1:0 ',\n",
       " '25921686_46  fmriprep_+    compute       lcni          8     FAILED      1:0 ']"
      ]
     },
     "execution_count": 40,
     "metadata": {},
     "output_type": "execute_result"
    }
   ],
   "source": [
    "[x for x in failed if \"compute\" in x]"
   ]
  },
  {
   "cell_type": "code",
   "execution_count": 41,
   "id": "040bd0c3-f8cb-4953-a079-f2a5f531f6b5",
   "metadata": {},
   "outputs": [
    {
     "data": {
      "text/plain": [
       "[['25921686_3', 'fmriprep_+', 'compute', 'lcni', '8', 'FAILED', '1:0'],\n",
       " ['25921686_46', 'fmriprep_+', 'compute', 'lcni', '8', 'FAILED', '1:0']]"
      ]
     },
     "execution_count": 41,
     "metadata": {},
     "output_type": "execute_result"
    }
   ],
   "source": [
    "[x.split() for x in failed if \"compute\" in x]"
   ]
  },
  {
   "cell_type": "code",
   "execution_count": 42,
   "id": "9253b2e3-1827-46dd-bbb9-459d50d2f721",
   "metadata": {},
   "outputs": [],
   "source": [
    "jobids = [x.split()[0] for x in failed if \"compute\" in x]"
   ]
  },
  {
   "cell_type": "code",
   "execution_count": null,
   "id": "1351ef40-b094-4c8b-bbe4-f2ca745f4505",
   "metadata": {},
   "outputs": [],
   "source": [
    "Now, you can check the `seff` status of each of the two failed job ids."
   ]
  },
  {
   "cell_type": "code",
   "execution_count": 43,
   "id": "d9e5a8d0-8558-46fb-b14a-8ab3d65a1e80",
   "metadata": {},
   "outputs": [
    {
     "name": "stdout",
     "output_type": "stream",
     "text": [
      "Job ID: 25921691\n",
      "Array Job ID: 25921686_3\n",
      "Cluster: talapas\n",
      "User/Group: jolinda/uoregon\n",
      "State: FAILED (exit code 1)\n",
      "Nodes: 1\n",
      "Cores per node: 8\n",
      "CPU Utilized: 1-02:58:23\n",
      "CPU Efficiency: 49.64% of 2-06:20:24 core-walltime\n",
      "Job Wall-clock time: 06:47:33\n",
      "Memory Utilized: 6.60 GB\n",
      "Memory Efficiency: 20.62% of 32.00 GB\n"
     ]
    }
   ],
   "source": [
    "!seff {jobids[0]}"
   ]
  },
  {
   "cell_type": "code",
   "execution_count": 44,
   "id": "76a98a67-14bf-4071-83d2-cef5b7ce5023",
   "metadata": {},
   "outputs": [
    {
     "name": "stdout",
     "output_type": "stream",
     "text": [
      "Job ID: 25921686\n",
      "Array Job ID: 25921686_46\n",
      "Cluster: talapas\n",
      "User/Group: jolinda/uoregon\n",
      "State: FAILED (exit code 1)\n",
      "Nodes: 1\n",
      "Cores per node: 8\n",
      "CPU Utilized: 00:00:38\n",
      "CPU Efficiency: 0.17% of 06:14:08 core-walltime\n",
      "Job Wall-clock time: 00:46:46\n",
      "Memory Utilized: 495.25 MB\n",
      "Memory Efficiency: 1.51% of 32.00 GB\n"
     ]
    }
   ],
   "source": [
    "!seff {jobids[1]}"
   ]
  },
  {
   "cell_type": "markdown",
   "id": "4c813297-a7a5-4a82-8009-09b13307e752",
   "metadata": {},
   "source": [
    "## Magics\n",
    "Jupyter notebooks have [special commands](https://ipython.readthedocs.io/en/stable/interactive/magics.html) called \"cell magics\" and \"line magics\". Cell magics start with %%, and line magics start with %. You can get help for magics by adding a '?' at the end."
   ]
  },
  {
   "cell_type": "code",
   "execution_count": 45,
   "id": "193926ec-5989-4be2-a9ad-5d56cb52f0a5",
   "metadata": {
    "scrolled": true
   },
   "outputs": [
    {
     "data": {
      "text/plain": [
       "\u001b[0;31mDocstring:\u001b[0m\n",
       "Start logging anywhere in a session.\n",
       "\n",
       "%logstart [-o|-r|-t|-q] [log_name [log_mode]]\n",
       "\n",
       "If no name is given, it defaults to a file named 'ipython_log.py' in your\n",
       "current directory, in 'rotate' mode (see below).\n",
       "\n",
       "'%logstart name' saves to file 'name' in 'backup' mode.  It saves your\n",
       "history up to that point and then continues logging.\n",
       "\n",
       "%logstart takes a second optional parameter: logging mode. This can be one\n",
       "of (note that the modes are given unquoted):\n",
       "\n",
       "append\n",
       "    Keep logging at the end of any existing file.\n",
       "\n",
       "backup\n",
       "    Rename any existing file to name~ and start name.\n",
       "\n",
       "global\n",
       "    Append to  a single logfile in your home directory.\n",
       "\n",
       "over\n",
       "    Overwrite any existing log.\n",
       "\n",
       "rotate\n",
       "    Create rotating logs: name.1~, name.2~, etc.\n",
       "\n",
       "Options:\n",
       "\n",
       "  -o\n",
       "    log also IPython's output. In this mode, all commands which\n",
       "    generate an Out[NN] prompt are recorded to the logfile, right after\n",
       "    their corresponding input line. The output lines are always\n",
       "    prepended with a '#[Out]# ' marker, so that the log remains valid\n",
       "    Python code.\n",
       "\n",
       "  Since this marker is always the same, filtering only the output from\n",
       "  a log is very easy, using for example a simple awk call::\n",
       "\n",
       "    awk -F'#\\[Out\\]# ' '{if($2) {print $2}}' ipython_log.py\n",
       "\n",
       "  -r\n",
       "    log 'raw' input.  Normally, IPython's logs contain the processed\n",
       "    input, so that user lines are logged in their final form, converted\n",
       "    into valid Python.  For example, %Exit is logged as\n",
       "    _ip.run_line_magic(\"Exit\").  If the -r flag is given, all input is logged\n",
       "    exactly as typed, with no transformations applied.\n",
       "\n",
       "  -t\n",
       "    put timestamps before each input line logged (these are put in\n",
       "    comments).\n",
       "\n",
       "  -q\n",
       "    suppress output of logstate message when logging is invoked\n",
       "\u001b[0;31mFile:\u001b[0m      ~/.conda/envs/jupyter_rt/lib/python3.13/site-packages/IPython/core/magics/logging.py"
      ]
     },
     "metadata": {},
     "output_type": "display_data"
    }
   ],
   "source": [
    "%logstart?"
   ]
  },
  {
   "cell_type": "code",
   "execution_count": 46,
   "id": "a1035224-7ec7-4494-b67d-0ef6032e9268",
   "metadata": {},
   "outputs": [
    {
     "name": "stdout",
     "output_type": "stream",
     "text": [
      "Activating auto-logging. Current session state plus future input saved.\n",
      "Filename       : mynotebook.log\n",
      "Mode           : append\n",
      "Output logging : True\n",
      "Raw input log  : False\n",
      "Timestamping   : True\n",
      "State          : active\n"
     ]
    }
   ],
   "source": [
    "%logstart -t -o mynotebook.log append"
   ]
  },
  {
   "cell_type": "code",
   "execution_count": null,
   "id": "a45659b6-6b0d-4630-8f50-1ef706a2418e",
   "metadata": {},
   "outputs": [],
   "source": [
    "%logstop"
   ]
  },
  {
   "cell_type": "markdown",
   "id": "658a31ec-a73d-4005-b8e4-827cebd60360",
   "metadata": {},
   "source": [
    "### Cell magics\n",
    "Cell magics start with %% and apply to everything in the cell."
   ]
  },
  {
   "cell_type": "code",
   "execution_count": 51,
   "id": "1acd6a7b-43f5-4902-be2e-b48581ff81b1",
   "metadata": {},
   "outputs": [],
   "source": [
    "slurm_examples = \"/projects/racs_training/slurm_examples\""
   ]
  },
  {
   "cell_type": "code",
   "execution_count": null,
   "id": "7c4bd91b-add2-4494-ba9a-c38a037f04eb",
   "metadata": {},
   "outputs": [],
   "source": [
    "%%bash?"
   ]
  },
  {
   "cell_type": "code",
   "execution_count": null,
   "id": "34cbacda-c4f9-4972-8f27-220b0e91fd8e",
   "metadata": {},
   "outputs": [],
   "source": [
    "%%bash\n",
    "for x in *.ipynb\n",
    "    do echo $x\n",
    "done"
   ]
  },
  {
   "cell_type": "markdown",
   "id": "d9d99d75-f8a4-4b7a-b250-c8b4b18b8450",
   "metadata": {},
   "source": [
    "To pass one or more python variables to a bash cell, use -s"
   ]
  },
  {
   "cell_type": "code",
   "execution_count": 52,
   "id": "a75ee7ee-0c66-4ac2-8efc-6c07cc6e2e21",
   "metadata": {},
   "outputs": [
    {
     "name": "stdout",
     "output_type": "stream",
     "text": [
      "/projects/racs_training/slurm_examples/gpu.sbatch\n",
      "hprojects/racs_training/slurm_examples/hello.sbatc\n",
      "/projects/racs_training/slurm_examples/long.sbatch\n"
     ]
    }
   ],
   "source": [
    "%%bash -s {slurm_examples}\n",
    "for x in $1/*.sbatch\n",
    "    do echo $x\n",
    "done"
   ]
  },
  {
   "cell_type": "markdown",
   "id": "11379e6f-5651-4cbb-aebf-82d912113233",
   "metadata": {},
   "source": [
    "You can load lmod modules within a Slurm cell."
   ]
  },
  {
   "cell_type": "code",
   "execution_count": 33,
   "id": "cc718067-849b-429c-bebf-5e24b68b345b",
   "metadata": {},
   "outputs": [
    {
     "name": "stderr",
     "output_type": "stream",
     "text": [
      "sh: module-logger: command not found\n",
      "sh: module-logger: command not found\n",
      "\n",
      "Part of FSL (ID: \"\")\n",
      "fslcc: Cross-correlate two time-series, timepoint by timepoint\n",
      "\n",
      "Usage: \n",
      "[options] <first_input> <second_input> \n",
      "\n",
      "of):onal arguments (You may optionally specify one or more \n",
      "\t-m\tmask file name \n",
      "\t--noabs\t\tDon't return absolute values (keep sign)\n",
      " the input filest demean\n",
      "\t-t\t\tThreshhold ( default 0.1 )\n",
      "( default 2 )f decimal places to display in output \n",
      "\n",
      "\n"
     ]
    },
    {
     "ename": "CalledProcessError",
     "evalue": "Command 'b'module purge\\nmodule load fsl/6.0.7.9\\nfslcc\\n'' returned non-zero exit status 1.",
     "output_type": "error",
     "traceback": [
      "\u001b[0;31m---------------------------------------------------------------------------\u001b[0m",
      "\u001b[0;31mCalledProcessError\u001b[0m                        Traceback (most recent call last)",
      "Cell \u001b[0;32mIn[33], line 1\u001b[0m\n\u001b[0;32m----> 1\u001b[0m \u001b[43mget_ipython\u001b[49m\u001b[43m(\u001b[49m\u001b[43m)\u001b[49m\u001b[38;5;241;43m.\u001b[39;49m\u001b[43mrun_cell_magic\u001b[49m\u001b[43m(\u001b[49m\u001b[38;5;124;43m'\u001b[39;49m\u001b[38;5;124;43mbash\u001b[39;49m\u001b[38;5;124;43m'\u001b[39;49m\u001b[43m,\u001b[49m\u001b[43m \u001b[49m\u001b[38;5;124;43m'\u001b[39;49m\u001b[38;5;124;43m'\u001b[39;49m\u001b[43m,\u001b[49m\u001b[43m \u001b[49m\u001b[38;5;124;43m'\u001b[39;49m\u001b[38;5;124;43mmodule purge\u001b[39;49m\u001b[38;5;130;43;01m\\n\u001b[39;49;00m\u001b[38;5;124;43mmodule load fsl/6.0.7.9\u001b[39;49m\u001b[38;5;130;43;01m\\n\u001b[39;49;00m\u001b[38;5;124;43mfslcc\u001b[39;49m\u001b[38;5;130;43;01m\\n\u001b[39;49;00m\u001b[38;5;124;43m'\u001b[39;49m\u001b[43m)\u001b[49m\n",
      "File \u001b[0;32m~/.conda/envs/jupyter_rt/lib/python3.13/site-packages/IPython/core/interactiveshell.py:2543\u001b[0m, in \u001b[0;36mInteractiveShell.run_cell_magic\u001b[0;34m(self, magic_name, line, cell)\u001b[0m\n\u001b[1;32m   2541\u001b[0m \u001b[38;5;28;01mwith\u001b[39;00m \u001b[38;5;28mself\u001b[39m\u001b[38;5;241m.\u001b[39mbuiltin_trap:\n\u001b[1;32m   2542\u001b[0m     args \u001b[38;5;241m=\u001b[39m (magic_arg_s, cell)\n\u001b[0;32m-> 2543\u001b[0m     result \u001b[38;5;241m=\u001b[39m \u001b[43mfn\u001b[49m\u001b[43m(\u001b[49m\u001b[38;5;241;43m*\u001b[39;49m\u001b[43margs\u001b[49m\u001b[43m,\u001b[49m\u001b[43m \u001b[49m\u001b[38;5;241;43m*\u001b[39;49m\u001b[38;5;241;43m*\u001b[39;49m\u001b[43mkwargs\u001b[49m\u001b[43m)\u001b[49m\n\u001b[1;32m   2545\u001b[0m \u001b[38;5;66;03m# The code below prevents the output from being displayed\u001b[39;00m\n\u001b[1;32m   2546\u001b[0m \u001b[38;5;66;03m# when using magics with decorator @output_can_be_silenced\u001b[39;00m\n\u001b[1;32m   2547\u001b[0m \u001b[38;5;66;03m# when the last Python token in the expression is a ';'.\u001b[39;00m\n\u001b[1;32m   2548\u001b[0m \u001b[38;5;28;01mif\u001b[39;00m \u001b[38;5;28mgetattr\u001b[39m(fn, magic\u001b[38;5;241m.\u001b[39mMAGIC_OUTPUT_CAN_BE_SILENCED, \u001b[38;5;28;01mFalse\u001b[39;00m):\n",
      "File \u001b[0;32m~/.conda/envs/jupyter_rt/lib/python3.13/site-packages/IPython/core/magics/script.py:159\u001b[0m, in \u001b[0;36mScriptMagics._make_script_magic.<locals>.named_script_magic\u001b[0;34m(line, cell)\u001b[0m\n\u001b[1;32m    157\u001b[0m \u001b[38;5;28;01melse\u001b[39;00m:\n\u001b[1;32m    158\u001b[0m     line \u001b[38;5;241m=\u001b[39m script\n\u001b[0;32m--> 159\u001b[0m \u001b[38;5;28;01mreturn\u001b[39;00m \u001b[38;5;28;43mself\u001b[39;49m\u001b[38;5;241;43m.\u001b[39;49m\u001b[43mshebang\u001b[49m\u001b[43m(\u001b[49m\u001b[43mline\u001b[49m\u001b[43m,\u001b[49m\u001b[43m \u001b[49m\u001b[43mcell\u001b[49m\u001b[43m)\u001b[49m\n",
      "File \u001b[0;32m~/.conda/envs/jupyter_rt/lib/python3.13/site-packages/IPython/core/magics/script.py:336\u001b[0m, in \u001b[0;36mScriptMagics.shebang\u001b[0;34m(self, line, cell)\u001b[0m\n\u001b[1;32m    331\u001b[0m \u001b[38;5;28;01mif\u001b[39;00m args\u001b[38;5;241m.\u001b[39mraise_error \u001b[38;5;129;01mand\u001b[39;00m p\u001b[38;5;241m.\u001b[39mreturncode \u001b[38;5;241m!=\u001b[39m \u001b[38;5;241m0\u001b[39m:\n\u001b[1;32m    332\u001b[0m     \u001b[38;5;66;03m# If we get here and p.returncode is still None, we must have\u001b[39;00m\n\u001b[1;32m    333\u001b[0m     \u001b[38;5;66;03m# killed it but not yet seen its return code. We don't wait for it,\u001b[39;00m\n\u001b[1;32m    334\u001b[0m     \u001b[38;5;66;03m# in case it's stuck in uninterruptible sleep. -9 = SIGKILL\u001b[39;00m\n\u001b[1;32m    335\u001b[0m     rc \u001b[38;5;241m=\u001b[39m p\u001b[38;5;241m.\u001b[39mreturncode \u001b[38;5;129;01mor\u001b[39;00m \u001b[38;5;241m-\u001b[39m\u001b[38;5;241m9\u001b[39m\n\u001b[0;32m--> 336\u001b[0m     \u001b[38;5;28;01mraise\u001b[39;00m CalledProcessError(rc, cell)\n",
      "\u001b[0;31mCalledProcessError\u001b[0m: Command 'b'module purge\\nmodule load fsl/6.0.7.9\\nfslcc\\n'' returned non-zero exit status 1."
     ]
    }
   ],
   "source": [
    "%%bash\n",
    "module purge\n",
    "module load fsl/6.0.7.9\n",
    "fslcc"
   ]
  },
  {
   "cell_type": "markdown",
   "id": "be49b4a8-d2ce-4a96-a436-c49d7082cd98",
   "metadata": {},
   "source": [
    "Because fslcc returns an error code if you don't provide an argument, it throws a python error as well. If you want to ignore those types of errors, use --no-raise-error"
   ]
  },
  {
   "cell_type": "code",
   "execution_count": null,
   "id": "56bfc81b-d226-4e9b-908a-3ac29d797e15",
   "metadata": {},
   "outputs": [],
   "source": [
    "%%bash --no-raise-error\n",
    "module purge\n",
    "module load fsl/6.0.7.9\n",
    "fslcc"
   ]
  },
  {
   "cell_type": "markdown",
   "id": "868fb158-ceb0-41ce-92fa-a0fb7ddb2407",
   "metadata": {},
   "source": [
    "We can use the %%capture cell magic to capture stdin and stdout from a bash cell. "
   ]
  },
  {
   "cell_type": "code",
   "execution_count": 54,
   "id": "a6a3b8f5-ba6e-49ce-9e13-54dea3cc6d98",
   "metadata": {},
   "outputs": [],
   "source": [
    "%%capture output \n",
    "%%bash --no-raise-error -s {slurm_examples}\n",
    "ls $1\n",
    "ls banana"
   ]
  },
  {
   "cell_type": "code",
   "execution_count": 48,
   "id": "06146d10-19a0-4a02-829c-1f63098db3bd",
   "metadata": {},
   "outputs": [
    {
     "data": {
      "text/plain": [
       "<IPython.utils.capture.CapturedIO at 0x14e3f2aa86e0>"
      ]
     },
     "execution_count": 48,
     "metadata": {},
     "output_type": "execute_result"
    }
   ],
   "source": [
    "output"
   ]
  },
  {
   "cell_type": "code",
   "execution_count": 55,
   "id": "b502d034-9a5c-4ff2-880c-a29b48f9963d",
   "metadata": {},
   "outputs": [
    {
     "data": {
      "text/plain": [
       "\u001b[0;31mSignature:\u001b[0m      \u001b[0moutput\u001b[0m\u001b[0;34m(\u001b[0m\u001b[0;34m)\u001b[0m\u001b[0;34m\u001b[0m\u001b[0;34m\u001b[0m\u001b[0m\n",
       "\u001b[0;31mType:\u001b[0m           CapturedIO\n",
       "\u001b[0;31mString form:\u001b[0m   \n",
       "gpu.sbatch\n",
       "           hello.py\n",
       "           hello.sbatch\n",
       "           hello_world_python-31471316.err\n",
       "           hello_world_python-31471316.out\n",
       "           <...> 54.err\n",
       "           long_hello_world-31468454.out\n",
       "           long_hello_world-31471363.err\n",
       "           long_hello_world-31471363.out\n",
       "           \n",
       "\u001b[0;31mFile:\u001b[0m           ~/.conda/envs/jupyter_rt/lib/python3.13/site-packages/IPython/utils/capture.py\n",
       "\u001b[0;31mDocstring:\u001b[0m     \n",
       "Simple object for containing captured stdout/err and rich display StringIO objects\n",
       "\n",
       "Each instance `c` has three attributes:\n",
       "\n",
       "- ``c.stdout`` : standard output as a string\n",
       "- ``c.stderr`` : standard error as a string\n",
       "- ``c.outputs``: a list of rich display outputs\n",
       "\n",
       "Additionally, there's a ``c.show()`` method which will print all of the\n",
       "above in the same order, and can be invoked simply via ``c()``.\n",
       "\u001b[0;31mCall docstring:\u001b[0m write my output to sys.stdout/err as appropriate"
      ]
     },
     "metadata": {},
     "output_type": "display_data"
    }
   ],
   "source": [
    "output?"
   ]
  },
  {
   "cell_type": "code",
   "execution_count": 56,
   "id": "26f464ee-c33a-4204-be7d-6a5e0c82dd8a",
   "metadata": {},
   "outputs": [
    {
     "name": "stdout",
     "output_type": "stream",
     "text": [
      "gpu.sbatch\n",
      "hello.py\n",
      "hello.sbatch\n",
      "hello_world_python-31471316.err\n",
      "hello_world_python-31471316.out\n",
      "hello_world_python-31471343.err\n",
      "hello_world_python-31471343.out\n",
      "long.sbatch\n",
      "long_hello_world-31468454.err\n",
      "long_hello_world-31468454.out\n",
      "long_hello_world-31471363.err\n",
      "long_hello_world-31471363.out\n"
     ]
    },
    {
     "name": "stderr",
     "output_type": "stream",
     "text": [
      "ls: cannot access 'banana': No such file or directory\n"
     ]
    }
   ],
   "source": [
    "output()"
   ]
  },
  {
   "cell_type": "markdown",
   "id": "037f5dd5-ebe9-496f-bb7f-b2915260be1a",
   "metadata": {},
   "source": [
    "The contents of the `slurm_examples` directory will captured by stdout"
   ]
  },
  {
   "cell_type": "code",
   "execution_count": null,
   "id": "30e248c0-e475-4882-8ccd-7fc904ae15b5",
   "metadata": {},
   "outputs": [],
   "source": [
    "output.stdout"
   ]
  },
  {
   "cell_type": "markdown",
   "id": "289fbef6-f63f-443d-b941-4e8b52d8175b",
   "metadata": {},
   "source": [
    "The failure to `ls` banana will be redirected to stderr"
   ]
  },
  {
   "cell_type": "code",
   "execution_count": null,
   "id": "10c29f69-a8fe-4153-bbcf-891d7bf8f43f",
   "metadata": {},
   "outputs": [],
   "source": [
    "output.stderr"
   ]
  },
  {
   "cell_type": "markdown",
   "id": "273b5eda-3630-4381-a712-fe13557643eb",
   "metadata": {},
   "source": [
    "Use the `%%writefile` cell magic to write outputs to file."
   ]
  },
  {
   "cell_type": "code",
   "execution_count": 62,
   "id": "c22affdf-292b-4811-8366-31422f56d599",
   "metadata": {},
   "outputs": [
    {
     "name": "stdout",
     "output_type": "stream",
     "text": [
      "Writing test.txt\n"
     ]
    }
   ],
   "source": [
    "%%writefile test.txt\n",
    "\"my sentence\""
   ]
  },
  {
   "cell_type": "code",
   "execution_count": 63,
   "id": "168c728b-27f9-448b-ba94-02c7e257637b",
   "metadata": {},
   "outputs": [
    {
     "name": "stdout",
     "output_type": "stream",
     "text": [
      "\"my sentence\"\n"
     ]
    }
   ],
   "source": [
    "!cat test.txt"
   ]
  },
  {
   "cell_type": "markdown",
   "id": "c2597033-fe6e-4d6d-ae7e-4c68cbebf8fb",
   "metadata": {},
   "source": [
    "You can also load and edit text files from within inside Jupyter using `%load`."
   ]
  },
  {
   "cell_type": "markdown",
   "id": "d593a4ce-6d89-4750-ba73-f08ac791ff61",
   "metadata": {},
   "source": [
    "### Exercise 2: Logging\n",
    "Turn logging on in your current notebook. Open the log in the text editor and inspect the contents. Which lines are logged? Do they all have timestamps? Edit and rerun some cells. How is this reflected in the logger? How is this different from what will be saved in the notebook itself?"
   ]
  },
  {
   "cell_type": "markdown",
   "id": "cbd7b956-49e6-4d14-b43e-2ae38eb188a9",
   "metadata": {},
   "source": [
    "### More magics"
   ]
  },
  {
   "cell_type": "code",
   "execution_count": 67,
   "id": "c2e26b76-b5af-4e02-8229-e3bad4c6c8ec",
   "metadata": {},
   "outputs": [
    {
     "name": "stdout",
     "output_type": "stream",
     "text": [
      "\n",
      "Automagic is OFF, % prefix IS needed for line magics.\n"
     ]
    }
   ],
   "source": [
    "%automagic off"
   ]
  },
  {
   "cell_type": "markdown",
   "id": "c6b2ff09-c2be-4c3d-965c-deca566d0beb",
   "metadata": {},
   "source": [
    "The `%who` cell magic prints active variables. Think of it like the sidebar in RStudio."
   ]
  },
  {
   "cell_type": "code",
   "execution_count": 68,
   "id": "05a48378-b787-4512-9bd4-14d3263116ce",
   "metadata": {},
   "outputs": [
    {
     "name": "stdout",
     "output_type": "stream",
     "text": [
      "failed\t goodbye\t gw\t hello\t hw\t jobid\t jobids\t myfiles\t output\t \n",
      "resources\t slurm_examples\t \n"
     ]
    }
   ],
   "source": [
    "%who"
   ]
  },
  {
   "cell_type": "markdown",
   "id": "3426301c-12f2-4585-b360-683a10dbc437",
   "metadata": {},
   "source": [
    "`%whos` prints the *value* of each variable."
   ]
  },
  {
   "cell_type": "code",
   "execution_count": 69,
   "id": "39d39720-5a67-47b0-a9b1-9a9b381967a6",
   "metadata": {},
   "outputs": [
    {
     "name": "stdout",
     "output_type": "stream",
     "text": [
      "Variable         Type          Data/Info\n",
      "----------------------------------------\n",
      "failed           SList         ['25921686_3   fmriprep_+<...> 8     FAILED      1:0 ']\n",
      "goodbye          function      <function goodbye at 0x14e3f37bc400>\n",
      "gw               str           Goodbye World\n",
      "hello            function      <function hello at 0x14e3f37be2a0>\n",
      "hw               str           Hello World\n",
      "jobid            int           25921686\n",
      "jobids           list          n=2\n",
      "myfiles          SList         ['Exercise0.md', 'Untitle<...>json', 'sub-G16_T1w.nii']\n",
      "output           CapturedIO    gpu.sbatch\\nhello.py\\nhel<...>ello_world-31471363.out\\n\n",
      "resources        str           /projects/racs_training/resources\n",
      "slurm_examples   str           /projects/racs_training/slurm_examples\n"
     ]
    }
   ],
   "source": [
    "%whos"
   ]
  },
  {
   "cell_type": "markdown",
   "id": "b59f796b-f52a-4a70-a6e3-c1a1a22de885",
   "metadata": {},
   "source": [
    "Use `del` to delete a variable and free up memory."
   ]
  },
  {
   "cell_type": "code",
   "execution_count": null,
   "id": "c33641cb-8f7b-49c9-875e-a55fec26b3f2",
   "metadata": {},
   "outputs": [],
   "source": [
    "del gw"
   ]
  },
  {
   "cell_type": "markdown",
   "id": "7936592d-5069-40a8-95cd-1ae1efba5744",
   "metadata": {},
   "source": [
    "You can see the `gw` variable is no longer present."
   ]
  },
  {
   "cell_type": "code",
   "execution_count": 71,
   "id": "b77e1663-ec7e-4278-bf60-a0176e6cbe98",
   "metadata": {},
   "outputs": [
    {
     "name": "stdout",
     "output_type": "stream",
     "text": [
      "failed\t goodbye\t gw\t hello\t hw\t jobid\t jobids\t myfiles\t output\t \n",
      "resources\t slurm_examples\t \n"
     ]
    }
   ],
   "source": [
    "%who"
   ]
  },
  {
   "cell_type": "markdown",
   "id": "b06ae9bb-9f7e-47cb-99f3-849793ddbd6d",
   "metadata": {},
   "source": [
    "`pwd` prints the current working directory."
   ]
  },
  {
   "cell_type": "code",
   "execution_count": 72,
   "id": "964968c2-ac56-4969-b420-e988bcc81b69",
   "metadata": {},
   "outputs": [
    {
     "data": {
      "text/plain": [
       "'/gpfs/home/emwin/jupyter_examples'"
      ]
     },
     "execution_count": 72,
     "metadata": {},
     "output_type": "execute_result"
    }
   ],
   "source": [
    "%pwd"
   ]
  },
  {
   "cell_type": "markdown",
   "id": "ef1d4a46-584f-4188-bb83-f90a89d21c24",
   "metadata": {},
   "source": [
    "You can't change the working directory of a Jupyter notebook in a Bash line magic. "
   ]
  },
  {
   "cell_type": "code",
   "execution_count": 73,
   "id": "7cea050f-cc1c-4024-9e39-6232fd22a1e6",
   "metadata": {},
   "outputs": [],
   "source": [
    "!cd ~/slurm_examples"
   ]
  },
  {
   "cell_type": "code",
   "execution_count": 74,
   "id": "4b6be865-9d41-4570-b2e5-576013afee2f",
   "metadata": {},
   "outputs": [
    {
     "data": {
      "text/plain": [
       "'/gpfs/home/emwin/jupyter_examples'"
      ]
     },
     "execution_count": 74,
     "metadata": {},
     "output_type": "execute_result"
    }
   ],
   "source": [
    "%pwd"
   ]
  },
  {
   "cell_type": "markdown",
   "id": "56481d5d-a0bf-4136-9c15-d37f7620b57c",
   "metadata": {},
   "source": [
    "Instead you must use the `%cd` cell magic."
   ]
  },
  {
   "cell_type": "code",
   "execution_count": 76,
   "id": "1a7de579-09ba-4ec2-9607-4e5e6220e001",
   "metadata": {},
   "outputs": [],
   "source": [
    "!mkdir my_subdir"
   ]
  },
  {
   "cell_type": "code",
   "execution_count": 77,
   "id": "70645f1a-b344-4b43-b7a5-6aa9986a8324",
   "metadata": {},
   "outputs": [
    {
     "name": "stdout",
     "output_type": "stream",
     "text": [
      "/gpfs/home/emwin/jupyter_examples/my_subdir\n"
     ]
    }
   ],
   "source": [
    "%cd my_subdir"
   ]
  },
  {
   "cell_type": "code",
   "execution_count": 78,
   "id": "308b9b9b-5f03-474b-9990-6ffbdbad1e0d",
   "metadata": {},
   "outputs": [
    {
     "data": {
      "text/plain": [
       "'/gpfs/home/emwin/jupyter_examples/my_subdir'"
      ]
     },
     "execution_count": 78,
     "metadata": {},
     "output_type": "execute_result"
    }
   ],
   "source": [
    "%pwd"
   ]
  },
  {
   "cell_type": "markdown",
   "id": "cc38a8b6-310d-432a-8d3b-712f58f7cd1a",
   "metadata": {},
   "source": [
    "You can pass the return value of cell magics to Python variables."
   ]
  },
  {
   "cell_type": "code",
   "execution_count": 79,
   "id": "5f77c2b8-61eb-4dfa-af19-ee82397109c0",
   "metadata": {},
   "outputs": [],
   "source": [
    "slurm_examples = %pwd"
   ]
  },
  {
   "cell_type": "code",
   "execution_count": 80,
   "id": "775aaefe-da41-48bd-aff7-ef7842c6568a",
   "metadata": {},
   "outputs": [
    {
     "name": "stdout",
     "output_type": "stream",
     "text": [
      "/gpfs/home/emwin/jupyter_examples/my_subdir\n"
     ]
    }
   ],
   "source": [
    "print(slurm_examples)"
   ]
  },
  {
   "cell_type": "markdown",
   "id": "4ed61cb7-8f74-41bd-a698-8d9a3092575a",
   "metadata": {},
   "source": [
    "The `%dhist` cell magic lists the history of working directories in Jupyter."
   ]
  },
  {
   "cell_type": "code",
   "execution_count": 81,
   "id": "9ca9e07e-0d98-43c2-a9c6-32bd33d2ad78",
   "metadata": {},
   "outputs": [
    {
     "name": "stdout",
     "output_type": "stream",
     "text": [
      "Directory history (kept in _dh)\n",
      "0: /gpfs/home/emwin/jupyter_examples\n",
      "1: /gpfs/home/emwin/jupyter_examples/my_subdir\n"
     ]
    }
   ],
   "source": [
    "%dhist"
   ]
  },
  {
   "cell_type": "markdown",
   "id": "898bc8a4-2f96-400f-b9e1-97a62cb347f1",
   "metadata": {},
   "source": [
    "This navigates you to your initial working directory."
   ]
  },
  {
   "cell_type": "code",
   "execution_count": 82,
   "id": "fc4d77d0-84be-4dd6-b0b6-90476af87ef0",
   "metadata": {},
   "outputs": [
    {
     "name": "stdout",
     "output_type": "stream",
     "text": [
      "/gpfs/home/emwin/jupyter_examples\n"
     ]
    }
   ],
   "source": [
    "%cd -0"
   ]
  },
  {
   "cell_type": "markdown",
   "id": "99a4bc0a-ed26-42f0-81c8-c1151f7faba1",
   "metadata": {},
   "source": [
    "This cell magic lists available aliases."
   ]
  },
  {
   "cell_type": "code",
   "execution_count": 83,
   "id": "651df0e6-d26a-4a2f-9f14-7b0d299dafe3",
   "metadata": {},
   "outputs": [
    {
     "name": "stdout",
     "output_type": "stream",
     "text": [
      "Total number of aliases: 12\n"
     ]
    },
    {
     "data": {
      "text/plain": [
       "[('cat', 'cat'),\n",
       " ('cp', 'cp'),\n",
       " ('ldir', 'ls -F -o --color %l | grep /$'),\n",
       " ('lf', 'ls -F -o --color %l | grep ^-'),\n",
       " ('lk', 'ls -F -o --color %l | grep ^l'),\n",
       " ('ll', 'ls -F -o --color'),\n",
       " ('ls', 'ls -F --color'),\n",
       " ('lx', 'ls -F -o --color %l | grep ^-..x'),\n",
       " ('mkdir', 'mkdir'),\n",
       " ('mv', 'mv'),\n",
       " ('rm', 'rm'),\n",
       " ('rmdir', 'rmdir')]"
      ]
     },
     "execution_count": 83,
     "metadata": {},
     "output_type": "execute_result"
    }
   ],
   "source": [
    "%alias"
   ]
  },
  {
   "cell_type": "code",
   "execution_count": 86,
   "id": "a8c43578-8614-4c49-9280-7f87daa7ff61",
   "metadata": {},
   "outputs": [],
   "source": [
    "slurm_examples = \"/projects/racs_training/resources/slurm_examples\""
   ]
  },
  {
   "cell_type": "code",
   "execution_count": 87,
   "id": "450ee682-e7e0-48f7-b28d-5750be3c57d6",
   "metadata": {},
   "outputs": [
    {
     "name": "stdout",
     "output_type": "stream",
     "text": [
      "gpu.sbatch  hello.sbatch  long.sbatch\n"
     ]
    }
   ],
   "source": [
    "!ls {slurm_examples}"
   ]
  },
  {
   "cell_type": "code",
   "execution_count": 88,
   "id": "a260cc22-65d2-46ff-87bb-24cec91de508",
   "metadata": {},
   "outputs": [
    {
     "name": "stdout",
     "output_type": "stream",
     "text": [
      "\u001b[0m\u001b[01;32mgpu.sbatch\u001b[0m*  \u001b[01;32mhello.sbatch\u001b[0m*  \u001b[01;32mlong.sbatch\u001b[0m*\n"
     ]
    }
   ],
   "source": [
    "%ls {slurm_examples}"
   ]
  },
  {
   "cell_type": "markdown",
   "id": "386361e7-e3cf-428a-830f-3edfa543cd33",
   "metadata": {},
   "source": [
    "This creates a cell magic alias for the Bash command `tail`."
   ]
  },
  {
   "cell_type": "code",
   "execution_count": 90,
   "id": "37991421-96b3-4a4f-be99-be423732a04e",
   "metadata": {},
   "outputs": [],
   "source": [
    "%alias tail tail"
   ]
  },
  {
   "cell_type": "code",
   "execution_count": 91,
   "id": "6490eb0f-e71e-4876-bbf4-1093152386fb",
   "metadata": {},
   "outputs": [
    {
     "name": "stdout",
     "output_type": "stream",
     "text": [
      "#SBATCH --ntasks-per-node=1              ### Number of tasks to be launched per Node\n",
      "#SBATCH --cpus-per-task=1                ### Number of cpus/cores to be launched per Task\n",
      "\n",
      "\n",
      "### Run your actual program\n",
      "for i in {1..100}\n",
      "do\n",
      "    echo \"This is loop iteration $i\"\n",
      "    sleep 45\n",
      "done\n"
     ]
    }
   ],
   "source": [
    "%tail {slurm_examples}/long.sbatch"
   ]
  },
  {
   "cell_type": "markdown",
   "id": "33bf9963-a111-45c6-9701-c3fed2457354",
   "metadata": {},
   "source": [
    "This alias will only last for this session. In order to save it, use the %store magic"
   ]
  },
  {
   "cell_type": "code",
   "execution_count": 92,
   "id": "aad19a07-9684-4cf5-b0ba-fdad2bc1c33e",
   "metadata": {},
   "outputs": [
    {
     "name": "stdout",
     "output_type": "stream",
     "text": [
      "Alias stored: tail (tail)\n"
     ]
    }
   ],
   "source": [
    "%store tail"
   ]
  },
  {
   "cell_type": "markdown",
   "id": "b597ca02-c722-4d06-a52d-4f650a82bdad",
   "metadata": {},
   "source": [
    "You can also store variables, but not functions."
   ]
  },
  {
   "cell_type": "code",
   "execution_count": 93,
   "id": "d5e6f9ca-98ab-47b7-b1ed-044d294da60b",
   "metadata": {},
   "outputs": [
    {
     "name": "stdout",
     "output_type": "stream",
     "text": [
      "Stored 'hw' (str)\n"
     ]
    }
   ],
   "source": [
    "%store hw"
   ]
  },
  {
   "cell_type": "code",
   "execution_count": 94,
   "id": "f44a00fa-0341-4b77-8196-b2f2f0b57269",
   "metadata": {},
   "outputs": [
    {
     "name": "stdout",
     "output_type": "stream",
     "text": [
      "Stored variables and their in-db values:\n",
      "hw             -> 'Hello World'\n"
     ]
    }
   ],
   "source": [
    "%store"
   ]
  },
  {
   "cell_type": "markdown",
   "id": "412c2e85-8f85-4e51-9b9b-5c6e06ff7f2c",
   "metadata": {},
   "source": [
    "Stored variables are not loaded until you store -r them."
   ]
  },
  {
   "cell_type": "code",
   "execution_count": 95,
   "id": "e4087c60-397b-4975-9217-0f38bee5c5b0",
   "metadata": {},
   "outputs": [],
   "source": [
    "mystring = \"example\""
   ]
  },
  {
   "cell_type": "code",
   "execution_count": 96,
   "id": "5caed2f9-4d27-4d2a-8e59-366c51a92caa",
   "metadata": {},
   "outputs": [],
   "source": [
    "%store -r"
   ]
  },
  {
   "cell_type": "code",
   "execution_count": 97,
   "id": "82a688b8-5f64-4dfd-8a82-f39950edee51",
   "metadata": {},
   "outputs": [
    {
     "data": {
      "text/plain": [
       "'example'"
      ]
     },
     "execution_count": 97,
     "metadata": {},
     "output_type": "execute_result"
    }
   ],
   "source": [
    "mystring"
   ]
  },
  {
   "cell_type": "markdown",
   "id": "d8d06ab0-f687-4b2c-85cd-130880e9c2e9",
   "metadata": {},
   "source": [
    "Use `%store -d` to remove variables from storage."
   ]
  },
  {
   "cell_type": "code",
   "execution_count": 99,
   "id": "8dfaa87a-9f39-4969-acc6-eeec10a0d21d",
   "metadata": {},
   "outputs": [],
   "source": [
    "%store -d hw"
   ]
  },
  {
   "cell_type": "code",
   "execution_count": 100,
   "id": "95d85206-6b0d-4d29-b2cf-d25d03ba2ec6",
   "metadata": {},
   "outputs": [
    {
     "name": "stdout",
     "output_type": "stream",
     "text": [
      "Stored variables and their in-db values:\n"
     ]
    }
   ],
   "source": [
    "%store"
   ]
  },
  {
   "cell_type": "markdown",
   "id": "93974646-10f2-4bad-887d-a2fa8c9c8e03",
   "metadata": {},
   "source": [
    "You can't remove aliases from the store with -d, use %unalias instead"
   ]
  },
  {
   "cell_type": "code",
   "execution_count": 101,
   "id": "2d61aff0-8033-46e8-ba9f-82e7a4858880",
   "metadata": {},
   "outputs": [
    {
     "name": "stdout",
     "output_type": "stream",
     "text": [
      "Removing %stored alias tail\n"
     ]
    }
   ],
   "source": [
    "%unalias tail"
   ]
  },
  {
   "cell_type": "code",
   "execution_count": 104,
   "id": "3ba2b2b2-ebe1-4878-97c3-2ae5c92739a7",
   "metadata": {},
   "outputs": [
    {
     "name": "stdout",
     "output_type": "stream",
     "text": [
      "#!/bin/bash\n",
      "\n",
      "#SBATCH --partition=compute              ### Partition (like a queue in PBS)\n",
      "#SBATCH --account=racs_training          ### Account used for job submission\n",
      "\n",
      "### NOTE: %u=userID, %x=jobName, %N=nodeID, %j=jobID, %A=arrayMain, %a=arraySub\n",
      "#SBATCH --job-name=hello_world_python    ### Job Name\n",
      "#SBATCH --output=%x-%j.out               ### File in which to store job output\n",
      "#SBATCH --error=%x-%j.err                ### File in which to store job error messages\n",
      "\n",
      "#SBATCH --time=0-00:05:00                ### Wall clock time limit in Days-HH:MM:SS\n",
      "#SBATCH --nodes=1                        ### Number of nodes needed for the job\n",
      "#SBATCH --mem=500M                       ### Total Memory for job in MB -- can do K/M/G/T for KB/MB/GB/TB\n",
      "#SBATCH --ntasks-per-node=1              ### Number of tasks to be launched per Node\n",
      "#SBATCH --cpus-per-task=1                ### Number of cpus/cores to be launched per Task\n",
      "\n",
      "### Load needed modules\n",
      "module purge\n",
      "module load python3/3.11.4\n",
      "module list\n",
      "\n",
      "### Run your actual program\n",
      "python3 hello.py\n",
      "#SBATCH --men-per-cpu=50M\n",
      "#SBATCH --partition=compute\n",
      "#SBATCH --account=racs_training\n",
      "srun test.sb.1\n",
      "srun test.sb.2\n",
      "\n",
      "\n",
      "\n"
     ]
    }
   ],
   "source": [
    "%cat {slurm_examples}/hello.sbatch"
   ]
  }
 ],
 "metadata": {
  "kernelspec": {
   "display_name": "Python 3 (ipykernel)",
   "language": "python",
   "name": "python3"
  },
  "language_info": {
   "codemirror_mode": {
    "name": "ipython",
    "version": 3
   },
   "file_extension": ".py",
   "mimetype": "text/x-python",
   "name": "python",
   "nbconvert_exporter": "python",
   "pygments_lexer": "ipython3",
   "version": "3.13.2"
  }
 },
 "nbformat": 4,
 "nbformat_minor": 5
}
